{
 "cells": [
  {
   "cell_type": "markdown",
   "id": "43bd7a67",
   "metadata": {},
   "source": [
    "# Eclat Algorithm Implementation Showcase\n",
    "\n",
    "This is a small toy example to test and showcase my (simple) implementation of the eclat algorithm for frequent item set mining. "
   ]
  },
  {
   "cell_type": "code",
   "execution_count": 1,
   "id": "7f327d02",
   "metadata": {},
   "outputs": [],
   "source": [
    "import pandas as pd\n",
    "import numpy as np\n",
    "import fpm_with_eclat.tiny_eclat as teclat # functions used for eclat based item set mining"
   ]
  },
  {
   "cell_type": "markdown",
   "id": "66539ee7",
   "metadata": {},
   "source": [
    "## Simulate toy data\n",
    "\n",
    "To get some toy data, we simulate item frequencies for a \"shopping basket in a very (very) small supermarket\"."
   ]
  },
  {
   "cell_type": "code",
   "execution_count": null,
   "id": "a4601fb5",
   "metadata": {},
   "outputs": [
    {
     "data": {
      "text/html": [
       "<div>\n",
       "<style scoped>\n",
       "    .dataframe tbody tr th:only-of-type {\n",
       "        vertical-align: middle;\n",
       "    }\n",
       "\n",
       "    .dataframe tbody tr th {\n",
       "        vertical-align: top;\n",
       "    }\n",
       "\n",
       "    .dataframe thead th {\n",
       "        text-align: right;\n",
       "    }\n",
       "</style>\n",
       "<table border=\"1\" class=\"dataframe\">\n",
       "  <thead>\n",
       "    <tr style=\"text-align: right;\">\n",
       "      <th></th>\n",
       "      <th>Apple</th>\n",
       "      <th>Grapes</th>\n",
       "      <th>Eggs</th>\n",
       "      <th>Cheese</th>\n",
       "      <th>Lego</th>\n",
       "      <th>Wine</th>\n",
       "    </tr>\n",
       "  </thead>\n",
       "  <tbody>\n",
       "    <tr>\n",
       "      <th>0</th>\n",
       "      <td>1</td>\n",
       "      <td>1</td>\n",
       "      <td>0</td>\n",
       "      <td>0</td>\n",
       "      <td>0</td>\n",
       "      <td>0</td>\n",
       "    </tr>\n",
       "    <tr>\n",
       "      <th>1</th>\n",
       "      <td>0</td>\n",
       "      <td>1</td>\n",
       "      <td>1</td>\n",
       "      <td>1</td>\n",
       "      <td>0</td>\n",
       "      <td>1</td>\n",
       "    </tr>\n",
       "    <tr>\n",
       "      <th>2</th>\n",
       "      <td>0</td>\n",
       "      <td>1</td>\n",
       "      <td>0</td>\n",
       "      <td>1</td>\n",
       "      <td>0</td>\n",
       "      <td>1</td>\n",
       "    </tr>\n",
       "    <tr>\n",
       "      <th>3</th>\n",
       "      <td>1</td>\n",
       "      <td>1</td>\n",
       "      <td>1</td>\n",
       "      <td>1</td>\n",
       "      <td>1</td>\n",
       "      <td>1</td>\n",
       "    </tr>\n",
       "    <tr>\n",
       "      <th>4</th>\n",
       "      <td>1</td>\n",
       "      <td>0</td>\n",
       "      <td>1</td>\n",
       "      <td>0</td>\n",
       "      <td>0</td>\n",
       "      <td>0</td>\n",
       "    </tr>\n",
       "    <tr>\n",
       "      <th>5</th>\n",
       "      <td>1</td>\n",
       "      <td>1</td>\n",
       "      <td>0</td>\n",
       "      <td>1</td>\n",
       "      <td>0</td>\n",
       "      <td>1</td>\n",
       "    </tr>\n",
       "    <tr>\n",
       "      <th>6</th>\n",
       "      <td>1</td>\n",
       "      <td>0</td>\n",
       "      <td>0</td>\n",
       "      <td>0</td>\n",
       "      <td>0</td>\n",
       "      <td>0</td>\n",
       "    </tr>\n",
       "    <tr>\n",
       "      <th>7</th>\n",
       "      <td>0</td>\n",
       "      <td>0</td>\n",
       "      <td>1</td>\n",
       "      <td>0</td>\n",
       "      <td>0</td>\n",
       "      <td>0</td>\n",
       "    </tr>\n",
       "    <tr>\n",
       "      <th>8</th>\n",
       "      <td>1</td>\n",
       "      <td>0</td>\n",
       "      <td>0</td>\n",
       "      <td>1</td>\n",
       "      <td>0</td>\n",
       "      <td>0</td>\n",
       "    </tr>\n",
       "    <tr>\n",
       "      <th>9</th>\n",
       "      <td>0</td>\n",
       "      <td>0</td>\n",
       "      <td>0</td>\n",
       "      <td>0</td>\n",
       "      <td>0</td>\n",
       "      <td>0</td>\n",
       "    </tr>\n",
       "  </tbody>\n",
       "</table>\n",
       "</div>"
      ],
      "text/plain": [
       "   Apple  Grapes  Eggs  Cheese  Lego  Wine\n",
       "0      1       1     0       0     0     0\n",
       "1      0       1     1       1     0     1\n",
       "2      0       1     0       1     0     1\n",
       "3      1       1     1       1     1     1\n",
       "4      1       0     1       0     0     0\n",
       "5      1       1     0       1     0     1\n",
       "6      1       0     0       0     0     0\n",
       "7      0       0     1       0     0     0\n",
       "8      1       0     0       1     0     0\n",
       "9      0       0     0       0     0     0"
      ]
     },
     "execution_count": 9,
     "metadata": {},
     "output_type": "execute_result"
    }
   ],
   "source": [
    "np.random.seed(42)\n",
    "trials, df_length = 1, 100\n",
    "my_transaction_df = pd.DataFrame({\"Apple\": np.random.binomial(n = trials, p = 0.7, size = df_length),\n",
    "                                  \"Grapes\": np.random.binomial(n = trials, p = .4, size = df_length),\n",
    "                                  \"Eggs\": np.random.binomial(n = trials, p = .5, size = df_length),\n",
    "                                  \"Cheese\": np.random.binomial(n = trials, p = .6, size = df_length),\n",
    "                                  \"Lego\": np.random.binomial(n = trials, p = .2, size = df_length)})\n",
    "my_transaction_df[\"Wine\"] = my_transaction_df[\"Grapes\"].values * my_transaction_df[\"Cheese\"].values  # deterministic: if someone buys grapes & cheese, they also buy wine!\n",
    "\n",
    "# Binary transaction database (as df)\n",
    "my_transaction_df.head(10)"
   ]
  },
  {
   "cell_type": "code",
   "execution_count": 10,
   "id": "875823a9",
   "metadata": {},
   "outputs": [
    {
     "name": "stdout",
     "output_type": "stream",
     "text": [
      "\n",
      "    Transforms a binary transaction database into a list of sets.\n",
      "\n",
      "    Args:\n",
      "        df (pandas.DataFrame): a dense transaction database with items as columns, rows as transactions, and int or bool entries indicating the existence (True | 1) or absence (False | 0) of an item in the corresponding transaction (i.e., row).\n",
      "\n",
      "    Returns:\n",
      "        a list of sets\n",
      "\n",
      "    \n",
      "[{'Apple', 'Grapes'}, {'Wine', 'Cheese', 'Eggs', 'Grapes'}, {'Wine', 'Cheese', 'Grapes'}, {'Lego', 'Eggs', 'Cheese', 'Apple', 'Wine', 'Grapes'}, {'Apple', 'Eggs'}, {'Apple', 'Cheese', 'Wine', 'Grapes'}, {'Apple'}, {'Eggs'}, {'Apple', 'Cheese'}, set()]\n"
     ]
    }
   ],
   "source": [
    "# Transform it to as list of sets\n",
    "my_transaction_db = teclat.transform_pandas_to_t(my_transaction_df)\n",
    "print(teclat.transform_pandas_to_t.__doc__)\n",
    "print(my_transaction_db[:10])"
   ]
  },
  {
   "cell_type": "code",
   "execution_count": 11,
   "id": "3e10d477",
   "metadata": {},
   "outputs": [
    {
     "name": "stdout",
     "output_type": "stream",
     "text": [
      "\n",
      "    Transforms our transaction list (of sets) to a (sorted) dictionary containing the frequency per item and the indices of its occurences in our transaction list.\n",
      "\n",
      "    Args:\n",
      "      transaction_db (list): a list of sets\n",
      "      sort_asc (bool): should our transaction dictionary be sorted ascendingly\n",
      "\n",
      "    Returns:\n",
      "      a nested dictionary containing frequency and (positional) indices per item\n",
      "    \n",
      "{'Lego': {'frequency': 11, 'positions': {3, 40, 41, 42, 45, 47, 48, 49, 19, 26, 28}}, 'Wine': {'frequency': 13, 'positions': {1, 2, 3, 5, 37, 38, 44, 17, 19, 23, 25, 30, 31}}, 'Grapes': {'frequency': 21, 'positions': {0, 1, 2, 3, 5, 12, 17, 19, 20, 23, 24, 25, 26, 30, 31, 36, 37, 38, 41, 42, 44}}, 'Eggs': {'frequency': 23, 'positions': {1, 3, 4, 7, 12, 13, 14, 15, 16, 18, 19, 20, 21, 26, 27, 29, 34, 36, 37, 39, 40, 46, 47}}, 'Cheese': {'frequency': 27, 'positions': {1, 2, 3, 5, 8, 10, 13, 14, 16, 17, 18, 19, 21, 22, 23, 25, 27, 29, 30, 31, 34, 37, 38, 39, 40, 44, 45}}, 'Apple': {'frequency': 39, 'positions': {0, 3, 4, 5, 6, 8, 10, 13, 14, 15, 16, 17, 18, 19, 20, 21, 22, 23, 24, 26, 27, 28, 29, 30, 31, 32, 36, 37, 38, 39, 40, 41, 42, 44, 45, 46, 47, 48, 49}}}\n"
     ]
    }
   ],
   "source": [
    "# Aggregate our transaction list of sets to one transaction dict containing information about item support (i.e., frequency) and positional indices of their occurences in the list of sets.\n",
    "my_transaction_dict = teclat.get_transaction_dict(transaction_db = my_transaction_db)\n",
    "print(teclat.get_transaction_dict.__doc__)\n",
    "print(my_transaction_dict)"
   ]
  },
  {
   "cell_type": "code",
   "execution_count": 12,
   "id": "cafdcfed",
   "metadata": {},
   "outputs": [
    {
     "name": "stdout",
     "output_type": "stream",
     "text": [
      "\n",
      "  The recursive Eclat algorithm.\n",
      "\n",
      "  On highest level, we input all singleton items with their support in ascending order.\n",
      "  For each singleton we check, if it meets the minimal support. \n",
      "  If so, we save this observation in our output dictionary F. \n",
      "  Then, we go into the recursion, i.e., we define our current frequent element as prefix and build a conditional transaction dict from it.\n",
      "  This conditional transaction dict is then processed as usual with tiny_eclat().\n",
      "\n",
      "  Args:\n",
      "    transaction_dict (dict): our sorted (conditional) transaction dictionary.\n",
      "    smin (int): our minimal absolut support (i.e., frequency to determine \"frequent items\"); can also be written as relative support [%] * N_transactions.\n",
      "    prefix (str): empty in the highest recursion; gets extended when conditional transaction dictionaries are built.\n",
      "    F (dict): our interim output dictionary for frequent items\n",
      "\n",
      "  Returns:\n",
      "    F (dict): a nested dictionary containing all (frequent) item sets, with their support (i.e., frequency) and positional indices.\n",
      "  \n",
      "{'Grapes': {'frequency': 21, 'positions': {0, 1, 2, 3, 5, 12, 17, 19, 20, 23, 24, 25, 26, 30, 31, 36, 37, 38, 41, 42, 44}}, 'Eggs': {'frequency': 23, 'positions': {1, 3, 4, 7, 12, 13, 14, 15, 16, 18, 19, 20, 21, 26, 27, 29, 34, 36, 37, 39, 40, 46, 47}}, 'Cheese': {'frequency': 27, 'positions': {1, 2, 3, 5, 8, 10, 13, 14, 16, 17, 18, 19, 21, 22, 23, 25, 27, 29, 30, 31, 34, 37, 38, 39, 40, 44, 45}}, 'Cheese__Apple': {'frequency': 23, 'positions': {3, 5, 8, 10, 13, 14, 16, 17, 18, 19, 21, 22, 23, 27, 29, 30, 31, 37, 38, 39, 40, 44, 45}}, 'Apple': {'frequency': 39, 'positions': {0, 3, 4, 5, 6, 8, 10, 13, 14, 15, 16, 17, 18, 19, 20, 21, 22, 23, 24, 26, 27, 28, 29, 30, 31, 32, 36, 37, 38, 39, 40, 41, 42, 44, 45, 46, 47, 48, 49}}}\n"
     ]
    }
   ],
   "source": [
    "# Run the eclat algorithm\n",
    "relative_minimal_support = .2\n",
    "absolute_minimal_support = int(relative_minimal_support*len(my_transaction_db))\n",
    "fpm_results = teclat.tiny_eclat(transaction_dict = my_transaction_dict, smin = minimal_support)\n",
    "print(teclat.tiny_eclat.__doc__)\n",
    "print(fpm_results)"
   ]
  },
  {
   "cell_type": "code",
   "execution_count": 13,
   "id": "75291aaa",
   "metadata": {},
   "outputs": [
    {
     "name": "stdout",
     "output_type": "stream",
     "text": [
      "\n",
      "  Summarise output of tiny_eclat(), by calculating the frequent item set size, and descendingly sorting the resulting dictionary based on 1) frequent item set size and 2) support (i.e., set frequency).\n",
      "  If not differently specified, the output is formatted as a pandas dataframe.\n",
      "\n",
      "  Args:\n",
      "    tiny_eclat_results (dict): output dictionary of tiny_eclat(), containing frequent item sets (i.e., meeting minimal support) with their support and positional indices.\n",
      "    as_df (bool): if True the output dictionary is formated as a pandas dataframe\n",
      "\n",
      "  Results:\n",
      "    either a sorted dictionary or dataframe\n",
      "  \n",
      "             KEY         ITEM_SET  ITEM_SET_SIZE  SUPPORT  \\\n",
      "0  Cheese__Apple  {Apple, Cheese}              2       23   \n",
      "1          Apple          {Apple}              1       39   \n",
      "2         Cheese         {Cheese}              1       27   \n",
      "3           Eggs           {Eggs}              1       23   \n",
      "4         Grapes         {Grapes}              1       21   \n",
      "\n",
      "                                         POSITION_ID  \n",
      "0  {3, 5, 8, 10, 13, 14, 16, 17, 18, 19, 21, 22, ...  \n",
      "1  {0, 3, 4, 5, 6, 8, 10, 13, 14, 15, 16, 17, 18,...  \n",
      "2  {1, 2, 3, 5, 8, 10, 13, 14, 16, 17, 18, 19, 21...  \n",
      "3  {1, 3, 4, 7, 12, 13, 14, 15, 16, 18, 19, 20, 2...  \n",
      "4  {0, 1, 2, 3, 5, 12, 17, 19, 20, 23, 24, 25, 26...  \n"
     ]
    }
   ],
   "source": [
    "fpm_summary = teclat.summarise_tiny_eclat(fpm_results, as_df = True)\n",
    "print(teclat.summarise_tiny_eclat.__doc__)\n",
    "print(fpm_summary.head())"
   ]
  }
 ],
 "metadata": {
  "kernelspec": {
   "display_name": "Python 3",
   "language": "python",
   "name": "python3"
  },
  "language_info": {
   "codemirror_mode": {
    "name": "ipython",
    "version": 3
   },
   "file_extension": ".py",
   "mimetype": "text/x-python",
   "name": "python",
   "nbconvert_exporter": "python",
   "pygments_lexer": "ipython3",
   "version": "3.11.9"
  }
 },
 "nbformat": 4,
 "nbformat_minor": 5
}
